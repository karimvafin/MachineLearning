{
 "cells": [
  {
   "cell_type": "code",
   "execution_count": 12,
   "id": "b581a696-9969-4f41-838c-163a8f6bfe0a",
   "metadata": {},
   "outputs": [],
   "source": [
    "import numpy as np\n",
    "import matplotlib.pyplot as plt"
   ]
  },
  {
   "cell_type": "code",
   "execution_count": 188,
   "id": "6564bc2f-55c5-4202-8c69-53e17265f83d",
   "metadata": {},
   "outputs": [],
   "source": [
    "class Node:\n",
    "    def __init__(self, j=None, t=None, is_leaf=False):\n",
    "        self.j = j\n",
    "        self.t = t\n",
    "        self.left = None\n",
    "        self.right = None\n",
    "        self.is_leaf = is_leaf\n",
    "        self.value = None\n",
    "\n",
    "    def init(self):\n",
    "        self.left = Node()\n",
    "        self.right = Node()\n",
    "\n",
    "    def __str__(self):\n",
    "        return f\"j: {self.j}\\nt: {self.t}\\nleaf: {self.is_leaf}\\nvalue: {self.value}\\n\"\n",
    "\n",
    "class DecisionTree():\n",
    "    def __init__(self, max_depth=5):\n",
    "        self.max_depth = max_depth\n",
    "        self.depth = 0\n",
    "        self.levels = set()\n",
    "        self.tree = Node()\n",
    "\n",
    "    def separate_node(self, X, y, node, level):\n",
    "        j = 0\n",
    "        t = 0\n",
    "        max_gain = 0.0\n",
    "        for feature_ind in range(X.shape[1]):\n",
    "            max_f = max(X[:, feature_ind])\n",
    "            min_f = min(X[:, feature_ind])\n",
    "            for feature_val in X[:, feature_ind]:\n",
    "                if feature_val in [max_f, min_f]:\n",
    "                    continue\n",
    "                ind_l = X[:, feature_ind] <= feature_val\n",
    "                ind_r = X[:, feature_ind] >  feature_val\n",
    "                Xl = X[ind_l, :]\n",
    "                yl = y[ind_l]\n",
    "                Xr = X[ind_r, :]\n",
    "                yr = y[ind_r]\n",
    "                nXr = Xr.shape[0]\n",
    "                nXl = Xl.shape[0]\n",
    "                nX = X.shape[0]\n",
    "                gain = nX * self.impurity(y) - nXr * self.impurity(yr) - nXl * self.impurity(yl)\n",
    "                if gain > max_gain:\n",
    "                    max_gain = gain\n",
    "                    j = feature_ind\n",
    "                    t = feature_val\n",
    "        node.init()\n",
    "        node.j = j\n",
    "        node.t = t\n",
    "        self.levels.add(level)\n",
    "        self.depth = len(self.levels)\n",
    "        ind_l = X[:, j] <= t\n",
    "        ind_r = X[:, j] >  t\n",
    "        if self.depth < self.max_depth and sum(ind_l) != 0 and sum(ind_r) != 0:\n",
    "            Xl = X[ind_l, :]\n",
    "            yl = y[ind_l]\n",
    "            Xr = X[ind_r, :]\n",
    "            yr = y[ind_r]\n",
    "            self.separate_node(Xl, yl, node.left, level + 1)\n",
    "            self.separate_node(Xr, yr, node.right, level + 1)\n",
    "        else:\n",
    "            node.is_leaf = True\n",
    "            node.value = self.calc_answer(y)\n",
    "\n",
    "    def fit(self, X, y):\n",
    "        self.separate_node(X, y, self.tree, 0)\n",
    "\n",
    "    def transform_vec(self, vec):\n",
    "        node = self.tree\n",
    "        while not node.is_leaf:\n",
    "            j, t = node.j, node.t\n",
    "            move = \"left\" if vec[j] <= t else \"right\"\n",
    "            node = node.left if move == \"left\" else node.right\n",
    "        return node.value\n",
    "            \n",
    "        \n",
    "    def predict(self, X):\n",
    "        return np.apply_along_axis(self.transform_vec, 1, X)\n",
    "        "
   ]
  },
  {
   "cell_type": "code",
   "execution_count": 189,
   "id": "621b3c49-1618-4cea-bdd6-2351363a1945",
   "metadata": {},
   "outputs": [],
   "source": [
    "class DecisionTreeRegressor(DecisionTree):\n",
    "    def __init__(self, max_depth=5, impurity=\"mse\"):\n",
    "        super().__init__(max_depth)\n",
    "        if impurity == \"mse\":\n",
    "            self.impurity = self.impurity_mse\n",
    "            self.calc_answer = self.calc_answer_mse\n",
    "        if impurity == \"mae\":\n",
    "            self.impurity = self.impurity_mae\n",
    "            self.calc_answer = self.calc_answer_mae\n",
    "        else:\n",
    "            raise ValueError\n",
    "\n",
    "    \n",
    "    def impurity_mse(self, y):\n",
    "        return np.std(y) ** 2\n",
    "\n",
    "    \n",
    "    def calc_answer_mse(self, y):\n",
    "        return np.mean(y)\n",
    "\n",
    "    \n",
    "    def impurity_mae(self, y):\n",
    "        return np.mean(np.abs(y - np.median(y)))\n",
    "\n",
    "    \n",
    "    def calc_answer_mae(self, y):\n",
    "        return np.median(y)\n",
    "        "
   ]
  },
  {
   "cell_type": "code",
   "execution_count": 154,
   "id": "7ac3ea70-ff8c-4e02-b485-6397edf326ab",
   "metadata": {},
   "outputs": [],
   "source": [
    "from sklearn.base import ClassifierMixin\n",
    "import math\n",
    "\n",
    "class DecisionTreeClassifier(ClassifierMixin):\n",
    "    def __init__(self, max_depth=5, impurity=\"entropy\"):\n",
    "        self.max_depth = max_depth\n",
    "        if impurity == \"entropy\":\n",
    "            self.impurity = self.impurity_entropy\n",
    "        if impurity == \"gini\":\n",
    "            self.impurity = self.impurity_gini\n",
    "        self.calc_answer = self.calc_max_probas\n",
    "        self.depth = 0\n",
    "        self.levels = set()\n",
    "        self.tree = Node()\n",
    "        self.classes = None\n",
    "\n",
    "    def calc_probas(self, y):\n",
    "        probas = []\n",
    "        num_objs = y.shape[0]\n",
    "        for cl in self.classes:\n",
    "            probas.append(np.sum(y == cl) / num_objs)\n",
    "        return probas\n",
    "\n",
    "    def calc_max_probas(self, y):\n",
    "        probas = self.calc_probas(y)\n",
    "        return self.classes[np.argmax(np.array(probas))]\n",
    "        \n",
    "    def impurity_entropy(self, X, y):\n",
    "        probas = self.calc_probas(y)\n",
    "        imp = 0.0\n",
    "        for p in probas:\n",
    "            imp -= 0 if p == 0 else p * math.log(p)\n",
    "        return imp\n",
    "\n",
    "    def impurity_gini(self, X, y):\n",
    "        probas = self.calc_probas(y)\n",
    "        imp = 1.0\n",
    "        for p in probas:\n",
    "            imp -= p ** 2\n",
    "        return imp\n",
    "        \n",
    "    def separate_node(self, X, y, node, level):\n",
    "        j = 0\n",
    "        t = 0\n",
    "        max_gain = 0.0\n",
    "        for feature_ind in range(X.shape[1]):\n",
    "            max_f = max(X[:, feature_ind])\n",
    "            min_f = min(X[:, feature_ind])\n",
    "            for feature_val in X[:, feature_ind]:\n",
    "                if feature_val in [max_f, min_f]:\n",
    "                    continue\n",
    "                ind_l = X[:, feature_ind] <= feature_val\n",
    "                ind_r = X[:, feature_ind] >  feature_val\n",
    "                Xl = X[ind_l, :]\n",
    "                yl = y[ind_l]\n",
    "                Xr = X[ind_r, :]\n",
    "                yr = y[ind_r]\n",
    "                nXr = Xr.shape[0]\n",
    "                nXl = Xl.shape[0]\n",
    "                nX = X.shape[0]\n",
    "                gain = nX * self.impurity(X, y) - nXr * self.impurity(Xr, yr) - nXl * self.impurity(Xl, yl)\n",
    "                if gain > max_gain:\n",
    "                    max_gain = gain\n",
    "                    j = feature_ind\n",
    "                    t = feature_val\n",
    "        node.init()\n",
    "        node.j = j\n",
    "        node.t = t\n",
    "        self.levels.add(level)\n",
    "        self.depth = len(self.levels)\n",
    "        ind_l = X[:, j] <= t\n",
    "        ind_r = X[:, j] >  t\n",
    "        if self.depth < self.max_depth and sum(ind_l) != 0 and sum(ind_r) != 0:\n",
    "            Xl = X[ind_l, :]\n",
    "            yl = y[ind_l]\n",
    "            Xr = X[ind_r, :]\n",
    "            yr = y[ind_r]\n",
    "            self.separate_node(Xl, yl, node.left, level + 1)\n",
    "            self.separate_node(Xr, yr, node.right, level + 1)\n",
    "        else:\n",
    "            node.is_leaf = True\n",
    "            node.value = self.calc_answer(y)\n",
    "\n",
    "    def fit(self, X, y):\n",
    "        self.classes = list(set(y))\n",
    "        self.separate_node(X, y, self.tree, 0)\n",
    "\n",
    "    def transform_vec(self, vec):\n",
    "        node = self.tree\n",
    "        while not node.is_leaf:\n",
    "            j, t = node.j, node.t\n",
    "            # print(j, t)\n",
    "            move = \"left\" if vec[j] <= t else \"right\"\n",
    "            node = node.left if move == \"left\" else node.right\n",
    "        return node.value\n",
    "            \n",
    "        \n",
    "    def predict(self, X):\n",
    "        return np.apply_along_axis(self.transform_vec, 1, X)\n",
    "        "
   ]
  },
  {
   "cell_type": "code",
   "execution_count": 190,
   "id": "ab87b0a0-8c45-4507-befa-e0367d95840f",
   "metadata": {},
   "outputs": [],
   "source": [
    "rng = np.random.RandomState(1)\n",
    "X = np.sort(5 * rng.rand(80, 1), axis=0)\n",
    "y = np.sin(X).ravel()\n",
    "y[::5] += 3 * (0.5 - rng.rand(16))\n"
   ]
  },
  {
   "cell_type": "code",
   "execution_count": 196,
   "id": "dd0eff7d-b8fe-462c-bc98-4e019deeef64",
   "metadata": {},
   "outputs": [
    {
     "name": "stdout",
     "output_type": "stream",
     "text": [
      "(500, 1)\n",
      "(500,)\n"
     ]
    },
    {
     "data": {
      "text/plain": [
       "[<matplotlib.lines.Line2D at 0x7f8934520cd0>]"
      ]
     },
     "execution_count": 196,
     "metadata": {},
     "output_type": "execute_result"
    },
    {
     "data": {
      "image/png": "[encoded data removed]",
      "text/plain": [
       "<Figure size 640x480 with 1 Axes>"
      ]
     },
     "metadata": {},
     "output_type": "display_data"
    }
   ],
   "source": [
    "reg = DecisionTreeRegressor(max_depth=50, impurity=\"mae\")\n",
    "reg.fit(X, y)\n",
    "\n",
    "X_test = np.arange(0.0, 5.0, 0.01)[:, np.newaxis]\n",
    "print(X_test.shape)\n",
    "y_test = reg.predict(X_test)\n",
    "print(y_test.shape)\n",
    "\n",
    "plt.scatter(X, y)\n",
    "plt.plot(X_test, y_test, color=\"green\", linewidth=3)\n"
   ]
  },
  {
   "cell_type": "code",
   "execution_count": 158,
   "id": "4d267c1d-cae2-403f-9210-2786291be2ff",
   "metadata": {},
   "outputs": [
    {
     "name": "stdout",
     "output_type": "stream",
     "text": [
      "X.shape: (100, 2), y.shape: (100,)\n"
     ]
    },
    {
     "data": {
      "text/plain": [
       "<matplotlib.legend.Legend at 0x7f8944311850>"
      ]
     },
     "execution_count": 158,
     "metadata": {},
     "output_type": "execute_result"
    },
    {
     "data": {
      "image/png": "[encoded data removed]",
      "text/plain": [
       "<Figure size 640x480 with 1 Axes>"
      ]
     },
     "metadata": {},
     "output_type": "display_data"
    }
   ],
   "source": [
    "from sklearn.datasets import make_circles\n",
    "\n",
    "X, y = make_circles(150, factor=0.1, noise=0.1, random_state=42)\n",
    "\n",
    "X_test, y_test = X[100:], y[100:]\n",
    "X, y = X[:100], y[:100]\n",
    "\n",
    "print(f\"X.shape: {X.shape}, y.shape: {y.shape}\")\n",
    "\n",
    "plt.scatter(X[y == 1, 0], X[y == 1, 1], label=\"true\")\n",
    "plt.scatter(X[y == 0, 0], X[y == 0, 1], label=\"false\")\n",
    "plt.legend()"
   ]
  },
  {
   "cell_type": "code",
   "execution_count": 182,
   "id": "8afd3d8d-9bf3-4c26-97a7-ef44a3361175",
   "metadata": {},
   "outputs": [
    {
     "name": "stdout",
     "output_type": "stream",
     "text": [
      "Accuracy:  0.92\n"
     ]
    }
   ],
   "source": [
    "from sklearn.metrics import accuracy_score\n",
    "\n",
    "y[y==0] = -1\n",
    "y_test[y_test==0] = -1\n",
    "\n",
    "clf = DecisionTreeClassifier(max_depth=4)\n",
    "clf.fit(X_test, y_test)\n",
    "pred = clf.predict(X_test)\n",
    "print(\"Accuracy: \", accuracy_score(y_test, pred))"
   ]
  },
  {
   "cell_type": "code",
   "execution_count": 183,
   "id": "1a5a59d2-2437-436c-aa5c-cfdafb49b765",
   "metadata": {},
   "outputs": [
    {
     "data": {
      "text/plain": [
       "<matplotlib.legend.Legend at 0x7f89332d38b0>"
      ]
     },
     "execution_count": 183,
     "metadata": {},
     "output_type": "execute_result"
    },
    {
     "data": {
      "image/png": "[encoded data removed]",
      "text/plain": [
       "<Figure size 640x480 with 1 Axes>"
      ]
     },
     "metadata": {},
     "output_type": "display_data"
    }
   ],
   "source": [
    "def plt_node(node):\n",
    "    feat = \"x\" if node.j == 0 else \"y\"\n",
    "    if feat == \"x\":\n",
    "        plt.plot([node.t, node.t], [-1, 1])\n",
    "    else:\n",
    "        plt.plot([-1, 1], [node.t, node.t])\n",
    "    node\n",
    "    if node.is_leaf:\n",
    "        return \n",
    "    plt_node(node.left)\n",
    "    plt_node(node.right)\n",
    "\n",
    "plt_node(clf.tree)   \n",
    "\n",
    "plt.scatter(X[y == 1, 0], X[y == 1, 1], label=\"true\")\n",
    "plt.scatter(X[y == -1, 0], X[y == -1, 1], label=\"false\")\n",
    "plt.legend()"
   ]
  },
  {
   "cell_type": "code",
   "execution_count": 187,
   "id": "531117a2-6c0e-47e7-9c3b-40541c64aa56",
   "metadata": {},
   "outputs": [
    {
     "name": "stdout",
     "output_type": "stream",
     "text": [
      "Class B3\n"
     ]
    }
   ],
   "source": [
    "class A:\n",
    "    def __init__(self):\n",
    "        # self.print = self.print_1\n",
    "        pass\n",
    "\n",
    "    def print_1(self):\n",
    "        print(\"Class A1\")\n",
    "\n",
    "    def print_2(self):\n",
    "        print(\"Class A2\")\n",
    "\n",
    "    def do(self):\n",
    "        self.print()\n",
    "\n",
    "class B(A):\n",
    "    def __init__(self):\n",
    "        super().__init__()\n",
    "        self.print = self.print_3\n",
    "\n",
    "    def print_3(self):\n",
    "        print(\"Class B3\")\n",
    "\n",
    "b = B()\n",
    "b.do()"
   ]
  },
  {
   "cell_type": "code",
   "execution_count": null,
   "id": "0c2fbbba-cfcb-497c-80d1-8e84d1644295",
   "metadata": {},
   "outputs": [],
   "source": []
  }
 ],
 "metadata": {
  "kernelspec": {
   "display_name": "Python 3 (ipykernel)",
   "language": "python",
   "name": "python3"
  },
  "language_info": {
   "codemirror_mode": {
    "name": "ipython",
    "version": 3
   },
   "file_extension": ".py",
   "mimetype": "text/x-python",
   "name": "python",
   "nbconvert_exporter": "python",
   "pygments_lexer": "ipython3",
   "version": "3.8.5"
  }
 },
 "nbformat": 4,
 "nbformat_minor": 5
}
