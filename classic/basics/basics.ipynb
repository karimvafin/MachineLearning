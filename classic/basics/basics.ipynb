{
 "cells": [
  {
   "cell_type": "code",
   "execution_count": 2,
   "id": "a437a35e-3e98-4aae-b129-3771a1b4f72a",
   "metadata": {},
   "outputs": [],
   "source": [
    "import numpy as np\n",
    "import pandas as pd\n",
    "import matplotlib.pyplot as plt\n",
    "%matplotlib inline\n",
    "\n",
    "from sklearn.model_selection import train_test_split"
   ]
  },
  {
   "cell_type": "code",
   "execution_count": 3,
   "id": "7e991a61-2192-452f-8aec-941bfdffcc43",
   "metadata": {},
   "outputs": [
    {
     "data": {
      "text/plain": [
       "array([[0., 0., 0.],\n",
       "       [0., 0., 0.],\n",
       "       [0., 0., 0.]])"
      ]
     },
     "execution_count": 3,
     "metadata": {},
     "output_type": "execute_result"
    }
   ],
   "source": [
    "ones_matrix = np.ones((5, 5))\n",
    "ones_submatrix_view = ones_matrix[::2,::2] # creates a view, not copy\n",
    "ones_matrix[::2,::2] = np.zeros((3, 3))\n",
    "ones_submatrix_view"
   ]
  },
  {
   "cell_type": "code",
   "execution_count": 6,
   "id": "0a73b538-fe04-470f-beff-60c24105f404",
   "metadata": {},
   "outputs": [
    {
     "data": {
      "text/plain": [
       "array([[[[0]]]])"
      ]
     },
     "execution_count": 6,
     "metadata": {},
     "output_type": "execute_result"
    }
   ],
   "source": [
    "p = np.arange(1).reshape([1, 1, 1, 1])\n",
    "p"
   ]
  },
  {
   "cell_type": "code",
   "execution_count": 10,
   "id": "54707165-16af-4351-ad19-56dbae50ecba",
   "metadata": {},
   "outputs": [
    {
     "name": "stdout",
     "output_type": "stream",
     "text": [
      "vstack:  (2, 1, 1, 1)\n",
      "hstack:  (1, 2, 1, 1)\n",
      "dstack:  (1, 1, 2, 1)\n"
     ]
    }
   ],
   "source": [
    "print(\"vstack: \", np.vstack((p, p)).shape)\n",
    "print(\"hstack: \", np.hstack((p, p)).shape)\n",
    "print(\"dstack: \", np.dstack((p, p)).shape)"
   ]
  },
  {
   "cell_type": "code",
   "execution_count": 11,
   "id": "c373a908-6219-4e52-a2f0-8d055356e888",
   "metadata": {},
   "outputs": [
    {
     "data": {
      "text/plain": [
       "(1, 1, 1, 2)"
      ]
     },
     "execution_count": 11,
     "metadata": {},
     "output_type": "execute_result"
    }
   ],
   "source": [
    "np.concatenate((p, p), axis=3).shape"
   ]
  },
  {
   "cell_type": "code",
   "execution_count": 12,
   "id": "237bc223-1865-4c41-9fe6-e52905943a39",
   "metadata": {},
   "outputs": [],
   "source": [
    "base = ''\n",
    "data = pd.read_csv(base + 'organisations.csv')\n",
    "features = pd.read_csv(base + 'features.csv')\n",
    "rubrics = pd.read_csv(base + 'rubrics.csv')"
   ]
  },
  {
   "cell_type": "code",
   "execution_count": 43,
   "id": "7c4f0e60-fe80-4ea5-a47e-bf7f6d0ce185",
   "metadata": {},
   "outputs": [
    {
     "data": {
      "text/html": [
       "<div>\n",
       "<style scoped>\n",
       "    .dataframe tbody tr th:only-of-type {\n",
       "        vertical-align: middle;\n",
       "    }\n",
       "\n",
       "    .dataframe tbody tr th {\n",
       "        vertical-align: top;\n",
       "    }\n",
       "\n",
       "    .dataframe thead th {\n",
       "        text-align: right;\n",
       "    }\n",
       "</style>\n",
       "<table border=\"1\" class=\"dataframe\">\n",
       "  <thead>\n",
       "    <tr style=\"text-align: right;\">\n",
       "      <th></th>\n",
       "      <th>org_id</th>\n",
       "      <th>city</th>\n",
       "      <th>average_bill</th>\n",
       "      <th>rating</th>\n",
       "      <th>rubrics_id</th>\n",
       "      <th>features_id</th>\n",
       "    </tr>\n",
       "  </thead>\n",
       "  <tbody>\n",
       "    <tr>\n",
       "      <th>0</th>\n",
       "      <td>15903868628669802651</td>\n",
       "      <td>msk</td>\n",
       "      <td>1500.0</td>\n",
       "      <td>4.270968</td>\n",
       "      <td>30776 30774</td>\n",
       "      <td>3501685156 3501779478 20422 3502045016 3502045...</td>\n",
       "    </tr>\n",
       "    <tr>\n",
       "      <th>1</th>\n",
       "      <td>16076540698036998306</td>\n",
       "      <td>msk</td>\n",
       "      <td>500.0</td>\n",
       "      <td>4.375000</td>\n",
       "      <td>30771</td>\n",
       "      <td>1509 1082283206 273469383 10462 11617 35017794...</td>\n",
       "    </tr>\n",
       "    <tr>\n",
       "      <th>2</th>\n",
       "      <td>8129364761615040323</td>\n",
       "      <td>msk</td>\n",
       "      <td>500.0</td>\n",
       "      <td>4.000000</td>\n",
       "      <td>31495</td>\n",
       "      <td>10462 11177 11617 11629 1416 1018 11704 11867 ...</td>\n",
       "    </tr>\n",
       "    <tr>\n",
       "      <th>3</th>\n",
       "      <td>15262729117594253452</td>\n",
       "      <td>msk</td>\n",
       "      <td>500.0</td>\n",
       "      <td>4.538813</td>\n",
       "      <td>30776 30770</td>\n",
       "      <td>3501618484 2020795524 11629 11617 1018 11704 2...</td>\n",
       "    </tr>\n",
       "    <tr>\n",
       "      <th>4</th>\n",
       "      <td>13418544315327784420</td>\n",
       "      <td>msk</td>\n",
       "      <td>500.0</td>\n",
       "      <td>4.409091</td>\n",
       "      <td>31495</td>\n",
       "      <td>11617 10462 11177 1416 11867 3501744275 20282 ...</td>\n",
       "    </tr>\n",
       "  </tbody>\n",
       "</table>\n",
       "</div>"
      ],
      "text/plain": [
       "                 org_id city  average_bill    rating   rubrics_id  \\\n",
       "0  15903868628669802651  msk        1500.0  4.270968  30776 30774   \n",
       "1  16076540698036998306  msk         500.0  4.375000        30771   \n",
       "2   8129364761615040323  msk         500.0  4.000000        31495   \n",
       "3  15262729117594253452  msk         500.0  4.538813  30776 30770   \n",
       "4  13418544315327784420  msk         500.0  4.409091        31495   \n",
       "\n",
       "                                         features_id  \n",
       "0  3501685156 3501779478 20422 3502045016 3502045...  \n",
       "1  1509 1082283206 273469383 10462 11617 35017794...  \n",
       "2  10462 11177 11617 11629 1416 1018 11704 11867 ...  \n",
       "3  3501618484 2020795524 11629 11617 1018 11704 2...  \n",
       "4  11617 10462 11177 1416 11867 3501744275 20282 ...  "
      ]
     },
     "execution_count": 43,
     "metadata": {},
     "output_type": "execute_result"
    }
   ],
   "source": [
    "data.head()"
   ]
  },
  {
   "cell_type": "code",
   "execution_count": 16,
   "id": "6f3b3d8f-ed8d-47c3-b9af-797f5a53b257",
   "metadata": {},
   "outputs": [
    {
     "data": {
      "text/html": [
       "<div>\n",
       "<style scoped>\n",
       "    .dataframe tbody tr th:only-of-type {\n",
       "        vertical-align: middle;\n",
       "    }\n",
       "\n",
       "    .dataframe tbody tr th {\n",
       "        vertical-align: top;\n",
       "    }\n",
       "\n",
       "    .dataframe thead th {\n",
       "        text-align: right;\n",
       "    }\n",
       "</style>\n",
       "<table border=\"1\" class=\"dataframe\">\n",
       "  <thead>\n",
       "    <tr style=\"text-align: right;\">\n",
       "      <th></th>\n",
       "      <th>feature_id</th>\n",
       "      <th>feature_name</th>\n",
       "    </tr>\n",
       "  </thead>\n",
       "  <tbody>\n",
       "    <tr>\n",
       "      <th>0</th>\n",
       "      <td>1</td>\n",
       "      <td>prepress_and_post_printing_processing</td>\n",
       "    </tr>\n",
       "    <tr>\n",
       "      <th>1</th>\n",
       "      <td>40</td>\n",
       "      <td>products</td>\n",
       "    </tr>\n",
       "    <tr>\n",
       "      <th>2</th>\n",
       "      <td>54</td>\n",
       "      <td>printing_method</td>\n",
       "    </tr>\n",
       "    <tr>\n",
       "      <th>3</th>\n",
       "      <td>77</td>\n",
       "      <td>fuel</td>\n",
       "    </tr>\n",
       "    <tr>\n",
       "      <th>4</th>\n",
       "      <td>79</td>\n",
       "      <td>shop</td>\n",
       "    </tr>\n",
       "  </tbody>\n",
       "</table>\n",
       "</div>"
      ],
      "text/plain": [
       "   feature_id                           feature_name\n",
       "0           1  prepress_and_post_printing_processing\n",
       "1          40                               products\n",
       "2          54                        printing_method\n",
       "3          77                                   fuel\n",
       "4          79                                   shop"
      ]
     },
     "execution_count": 16,
     "metadata": {},
     "output_type": "execute_result"
    }
   ],
   "source": [
    "features.head()"
   ]
  },
  {
   "cell_type": "code",
   "execution_count": 14,
   "id": "eb018b26-449c-4f1f-80a5-8a6bcfdd8b24",
   "metadata": {},
   "outputs": [
    {
     "data": {
      "text/plain": [
       "{30519: 'Булочная, пекарня',\n",
       " 30770: 'Бар, паб',\n",
       " 30771: 'Быстрое питание',\n",
       " 30774: 'Кафе',\n",
       " 30775: 'Пиццерия',\n",
       " 30776: 'Ресторан',\n",
       " 30777: 'Столовая',\n",
       " 31286: 'Спортбар',\n",
       " 31350: 'Кондитерская',\n",
       " 31375: 'Суши-бар',\n",
       " 31401: 'Кальян-бар',\n",
       " 31495: 'Кофейня',\n",
       " 3108292683: 'Бар безалкогольных напитков',\n",
       " 3501514558: 'Фудкорт',\n",
       " 3501750896: 'Кофе с собой'}"
      ]
     },
     "execution_count": 14,
     "metadata": {},
     "output_type": "execute_result"
    }
   ],
   "source": [
    "feature_dict = dict(zip(features[\"feature_id\"], features[\"feature_name\"]))\n",
    "rubric_dict = dict(zip(rubrics[\"rubric_id\"], rubrics[\"rubric_name\"]))\n",
    "rubric_dict"
   ]
  },
  {
   "cell_type": "code",
   "execution_count": 213,
   "id": "84a859eb-fc84-4796-95c1-c82d7df2a54f",
   "metadata": {},
   "outputs": [
    {
     "data": {
      "text/plain": [
       "(32136, 6)"
      ]
     },
     "execution_count": 213,
     "metadata": {},
     "output_type": "execute_result"
    }
   ],
   "source": [
    "ratio = data[\"average_bill\"].isna().sum() / len(data[\"average_bill\"])\n",
    "data = data.dropna(subset=['average_bill'])\n",
    "data = data.drop(data[data[\"average_bill\"] > 2500].index)\n",
    "data.shape"
   ]
  },
  {
   "cell_type": "code",
   "execution_count": 35,
   "id": "035ff478-9653-43e5-a6c3-3bda71fe42c1",
   "metadata": {},
   "outputs": [
    {
     "data": {
      "text/plain": [
       "(array([22329.,     0.,     0.,     0.,     0.,     0.,     0.,     0.,\n",
       "            0.,     0.,     0.,     0.,     0.,     0.,     0.,     0.,\n",
       "            0.,     0.,     0.,     0.,     0.,     0.,     0.,     0.,\n",
       "            0.,  5482.,     0.,     0.,     0.,     0.,     0.,     0.,\n",
       "            0.,     0.,     0.,     0.,     0.,     0.,     0.,     0.,\n",
       "            0.,     0.,     0.,     0.,     0.,     0.,     0.,     0.,\n",
       "            0.,     0.,  2696.,     0.,     0.,     0.,     0.,     0.,\n",
       "            0.,     0.,     0.,     0.,     0.,     0.,     0.,     0.,\n",
       "            0.,     0.,     0.,     0.,     0.,     0.,     0.,     0.,\n",
       "            0.,     0.,     0.,  1184.,     0.,     0.,     0.,     0.,\n",
       "            0.,     0.,     0.,     0.,     0.,     0.,     0.,     0.,\n",
       "            0.,     0.,     0.,     0.,     0.,     0.,     0.,     0.,\n",
       "            0.,     0.,     0.,   445.]),\n",
       " array([ 500.,  520.,  540.,  560.,  580.,  600.,  620.,  640.,  660.,\n",
       "         680.,  700.,  720.,  740.,  760.,  780.,  800.,  820.,  840.,\n",
       "         860.,  880.,  900.,  920.,  940.,  960.,  980., 1000., 1020.,\n",
       "        1040., 1060., 1080., 1100., 1120., 1140., 1160., 1180., 1200.,\n",
       "        1220., 1240., 1260., 1280., 1300., 1320., 1340., 1360., 1380.,\n",
       "        1400., 1420., 1440., 1460., 1480., 1500., 1520., 1540., 1560.,\n",
       "        1580., 1600., 1620., 1640., 1660., 1680., 1700., 1720., 1740.,\n",
       "        1760., 1780., 1800., 1820., 1840., 1860., 1880., 1900., 1920.,\n",
       "        1940., 1960., 1980., 2000., 2020., 2040., 2060., 2080., 2100.,\n",
       "        2120., 2140., 2160., 2180., 2200., 2220., 2240., 2260., 2280.,\n",
       "        2300., 2320., 2340., 2360., 2380., 2400., 2420., 2440., 2460.,\n",
       "        2480., 2500.]),\n",
       " <BarContainer object of 100 artists>)"
      ]
     },
     "execution_count": 35,
     "metadata": {},
     "output_type": "execute_result"
    },
    {
     "data": {
      "image/png": "[encoded data removed]",
      "text/plain": [
       "<Figure size 640x480 with 1 Axes>"
      ]
     },
     "metadata": {},
     "output_type": "display_data"
    }
   ],
   "source": [
    "plt.hist(data[\"average_bill\"], bins=100)"
   ]
  },
  {
   "cell_type": "code",
   "execution_count": 42,
   "id": "59ec04a0-582b-42a8-a1cc-192058984440",
   "metadata": {},
   "outputs": [
    {
     "data": {
      "text/plain": [
       "average_bill    116.0\n",
       "dtype: float64"
      ]
     },
     "execution_count": 42,
     "metadata": {},
     "output_type": "execute_result"
    }
   ],
   "source": [
    "mean_vals_cities = data[[\"city\", \"average_bill\"]].groupby([\"city\"]).mean()\n",
    "mean_vals = round(mean_vals_cities.loc[\"msk\"] - mean_vals_cities.loc[\"spb\"])\n",
    "mean_vals"
   ]
  },
  {
   "cell_type": "code",
   "execution_count": 55,
   "id": "b13db9cc-0463-44f1-be74-08cef6525446",
   "metadata": {},
   "outputs": [
    {
     "data": {
      "text/plain": [
       "average_bill    142.0\n",
       "dtype: float64"
      ]
     },
     "execution_count": 55,
     "metadata": {},
     "output_type": "execute_result"
    }
   ],
   "source": [
    "def select_cafe(s):\n",
    "    elems = s.split()\n",
    "    for i in elems:\n",
    "        if int(i) == 30774:\n",
    "            return True\n",
    "    return False\n",
    "\n",
    "data_cafe = data[data[\"rubrics_id\"].apply(select_cafe)]\n",
    "mean_vals_cafe = data_cafe[[\"city\", \"average_bill\"]].groupby([\"city\"]).mean()\n",
    "mean_vals = round(mean_vals_cafe.loc[\"msk\"] - mean_vals_cafe.loc[\"spb\"])\n",
    "mean_vals"
   ]
  },
  {
   "cell_type": "code",
   "execution_count": 214,
   "id": "95b559bf-da47-43bc-996e-1c47679e1596",
   "metadata": {},
   "outputs": [],
   "source": [
    "clean_data_train, clean_data_test = train_test_split(\n",
    "    data, stratify=data['average_bill'], test_size=0.33, random_state=42)"
   ]
  },
  {
   "cell_type": "code",
   "execution_count": 68,
   "id": "0c7d1429-9c84-44d7-8227-dad29201abca",
   "metadata": {},
   "outputs": [],
   "source": [
    "from scipy.stats import mode\n",
    "\n",
    "from sklearn.base import RegressorMixin\n",
    "\n",
    "class MeanRegressor(RegressorMixin):\n",
    "    # Predicts the mean of y_train\n",
    "    def fit(self, X=None, y=None):\n",
    "        self.mean = np.mean(y)\n",
    "\n",
    "    def predict(self, X=None):\n",
    "        return np.full(shape=X.shape[0], fill_value=self.mean)\n",
    "\n",
    "from sklearn.base import ClassifierMixin\n",
    "\n",
    "class MostFrequentClassifier(ClassifierMixin):\n",
    "    # Predicts the rounded (just in case) median of y_train\n",
    "    def fit(self, X=None, y=None):\n",
    "        self.most_frequent = round(np.median(y))\n",
    "\n",
    "    def predict(self, X=None):\n",
    "        return np.full(shape=X.shape[0], fill_value=self.most_frequent)"
   ]
  },
  {
   "cell_type": "code",
   "execution_count": 69,
   "id": "4dd8d958-be0b-4abe-8147-fa4f622bbac8",
   "metadata": {},
   "outputs": [],
   "source": [
    "reg = MeanRegressor()\n",
    "reg.fit(y=clean_data_train['average_bill'])\n",
    "\n",
    "clf = MostFrequentClassifier()\n",
    "clf.fit(y=clean_data_train['average_bill'])"
   ]
  },
  {
   "cell_type": "code",
   "execution_count": 75,
   "id": "f8dd4cab-473f-4c9a-acc2-de5b1ee2541b",
   "metadata": {},
   "outputs": [
    {
     "name": "stdout",
     "output_type": "stream",
     "text": [
      "448.7143889551622 514.7517402382093 0.2\n"
     ]
    }
   ],
   "source": [
    "from sklearn.metrics import mean_squared_error\n",
    "from sklearn.metrics import balanced_accuracy_score\n",
    "\n",
    "reg_mse_error = mean_squared_error(clean_data_test[\"average_bill\"], reg.predict(clean_data_test), squared=False)\n",
    "\n",
    "clf_mse_error = mean_squared_error(clean_data_test[\"average_bill\"], clf.predict(clean_data_test), squared=False)\n",
    "\n",
    "clf_bas_error = balanced_accuracy_score(clean_data_test[\"average_bill\"], clf.predict(clean_data_test))\n",
    "\n",
    "print(reg_mse_error, clf_mse_error, clf_bas_error)"
   ]
  },
  {
   "cell_type": "code",
   "execution_count": 76,
   "id": "eba1f45c-ddc0-499d-90cf-4a67808c11b7",
   "metadata": {},
   "outputs": [],
   "source": [
    "class CityMeanRegressor(RegressorMixin):\n",
    "    def fit(self, X=None, y=None):\n",
    "        self.msk_mean = np.mean(y[X[X[\"city\"] == \"msk\"].index])\n",
    "        self.spb_mean = np.mean(y[X[X[\"city\"] == \"spb\"].index])\n",
    "\n",
    "    def predict(self, X=None):\n",
    "        return self.msk_mean * (X[\"city\"] == \"msk\") + self.spb_mean * (X[\"city\"] == \"spb\")"
   ]
  },
  {
   "cell_type": "code",
   "execution_count": 78,
   "id": "27d0b382-aa0b-4e79-a5a2-636a9c2198f6",
   "metadata": {},
   "outputs": [
    {
     "data": {
      "text/plain": [
       "445.1063281403263"
      ]
     },
     "execution_count": 78,
     "metadata": {},
     "output_type": "execute_result"
    }
   ],
   "source": [
    "city_reg = CityMeanRegressor()\n",
    "city_reg.fit(X=clean_data_train, y=clean_data_train['average_bill'])\n",
    "\n",
    "mean_squared_error(clean_data_test[\"average_bill\"], city_reg.predict(clean_data_test), squared=False)"
   ]
  },
  {
   "cell_type": "code",
   "execution_count": 161,
   "id": "377d7794-70ab-4276-94be-9399d8b2a286",
   "metadata": {},
   "outputs": [],
   "source": [
    "from collections import Counter\n",
    "\n",
    "c_train = Counter(clean_data_train[\"rubrics_id\"])\n",
    "c_test = Counter(clean_data_test[\"rubrics_id\"])\n",
    "\n",
    "rubrics_to_replace_train = [key for key, value in c_train.items() if value < 100]\n",
    "rubrics_to_replace_test = [key for key, value in c_test.items() if value < 100]\n",
    "\n",
    "train_replaced_rubrics = clean_data_train.replace(rubrics_to_replace_train, \"other\")\n",
    "test_replaced_rubrics = clean_data_test.replace(rubrics_to_replace_test, \"other\")"
   ]
  },
  {
   "cell_type": "code",
   "execution_count": 188,
   "id": "844815ca-35d2-4353-bf0d-964ad1057289",
   "metadata": {},
   "outputs": [],
   "source": [
    "class CityRubricsMeanRegressor(RegressorMixin):\n",
    "    def fit(self, X=None, y=None):\n",
    "        average_bills_by_rubrics = X[[\"city\", \"rubrics_id\", \"average_bill\"]].groupby([\"city\", \"rubrics_id\"]).mean()\n",
    "\n",
    "    def predict(self, X=None):\n",
    "        multi_ind = pd.MultiIndex.from_frame(X[[\"city\", \"rubrics_id\"]])\n",
    "        return average_bills_by_rubrics.loc[multi_ind][\"average_bill\"].to_numpy()"
   ]
  },
  {
   "cell_type": "code",
   "execution_count": 189,
   "id": "f8b38726-2362-4918-880d-11ff17ea942f",
   "metadata": {},
   "outputs": [
    {
     "data": {
      "text/plain": [
       "368.9342242289728"
      ]
     },
     "execution_count": 189,
     "metadata": {},
     "output_type": "execute_result"
    }
   ],
   "source": [
    "city_rubrics_reg = CityRubricsMeanRegressor()\n",
    "city_rubrics_reg.fit(X=train_replaced_rubrics, y=train_replaced_rubrics[\"average_bill\"])\n",
    "mean_squared_error(test_replaced_rubrics[\"average_bill\"], city_rubrics_reg.predict(test_replaced_rubrics), squared=False)"
   ]
  },
  {
   "cell_type": "code",
   "execution_count": 191,
   "id": "e7b5acc7-3bac-47b8-a775-5783dc73ed96",
   "metadata": {},
   "outputs": [
    {
     "data": {
      "text/plain": [
       "4"
      ]
     },
     "execution_count": 191,
     "metadata": {},
     "output_type": "execute_result"
    }
   ],
   "source": [
    "round(np.median(np.array([3, 7, 4])))"
   ]
  },
  {
   "cell_type": "code",
   "execution_count": 192,
   "id": "3127f81d-0742-4dfd-a2a8-940e9eaf8044",
   "metadata": {},
   "outputs": [
    {
     "data": {
      "text/html": [
       "<div>\n",
       "<style scoped>\n",
       "    .dataframe tbody tr th:only-of-type {\n",
       "        vertical-align: middle;\n",
       "    }\n",
       "\n",
       "    .dataframe tbody tr th {\n",
       "        vertical-align: top;\n",
       "    }\n",
       "\n",
       "    .dataframe thead th {\n",
       "        text-align: right;\n",
       "    }\n",
       "</style>\n",
       "<table border=\"1\" class=\"dataframe\">\n",
       "  <thead>\n",
       "    <tr style=\"text-align: right;\">\n",
       "      <th></th>\n",
       "      <th>org_id</th>\n",
       "      <th>city</th>\n",
       "      <th>average_bill</th>\n",
       "      <th>rating</th>\n",
       "      <th>rubrics_id</th>\n",
       "      <th>features_id</th>\n",
       "    </tr>\n",
       "  </thead>\n",
       "  <tbody>\n",
       "    <tr>\n",
       "      <th>0</th>\n",
       "      <td>15903868628669802651</td>\n",
       "      <td>msk</td>\n",
       "      <td>1500.0</td>\n",
       "      <td>4.270968</td>\n",
       "      <td>30776 30774</td>\n",
       "      <td>3501685156 3501779478 20422 3502045016 3502045...</td>\n",
       "    </tr>\n",
       "    <tr>\n",
       "      <th>1</th>\n",
       "      <td>16076540698036998306</td>\n",
       "      <td>msk</td>\n",
       "      <td>500.0</td>\n",
       "      <td>4.375000</td>\n",
       "      <td>30771</td>\n",
       "      <td>1509 1082283206 273469383 10462 11617 35017794...</td>\n",
       "    </tr>\n",
       "    <tr>\n",
       "      <th>2</th>\n",
       "      <td>8129364761615040323</td>\n",
       "      <td>msk</td>\n",
       "      <td>500.0</td>\n",
       "      <td>4.000000</td>\n",
       "      <td>31495</td>\n",
       "      <td>10462 11177 11617 11629 1416 1018 11704 11867 ...</td>\n",
       "    </tr>\n",
       "    <tr>\n",
       "      <th>3</th>\n",
       "      <td>15262729117594253452</td>\n",
       "      <td>msk</td>\n",
       "      <td>500.0</td>\n",
       "      <td>4.538813</td>\n",
       "      <td>30776 30770</td>\n",
       "      <td>3501618484 2020795524 11629 11617 1018 11704 2...</td>\n",
       "    </tr>\n",
       "    <tr>\n",
       "      <th>4</th>\n",
       "      <td>13418544315327784420</td>\n",
       "      <td>msk</td>\n",
       "      <td>500.0</td>\n",
       "      <td>4.409091</td>\n",
       "      <td>31495</td>\n",
       "      <td>11617 10462 11177 1416 11867 3501744275 20282 ...</td>\n",
       "    </tr>\n",
       "  </tbody>\n",
       "</table>\n",
       "</div>"
      ],
      "text/plain": [
       "                 org_id city  average_bill    rating   rubrics_id  \\\n",
       "0  15903868628669802651  msk        1500.0  4.270968  30776 30774   \n",
       "1  16076540698036998306  msk         500.0  4.375000        30771   \n",
       "2   8129364761615040323  msk         500.0  4.000000        31495   \n",
       "3  15262729117594253452  msk         500.0  4.538813  30776 30770   \n",
       "4  13418544315327784420  msk         500.0  4.409091        31495   \n",
       "\n",
       "                                         features_id  \n",
       "0  3501685156 3501779478 20422 3502045016 3502045...  \n",
       "1  1509 1082283206 273469383 10462 11617 35017794...  \n",
       "2  10462 11177 11617 11629 1416 1018 11704 11867 ...  \n",
       "3  3501618484 2020795524 11629 11617 1018 11704 2...  \n",
       "4  11617 10462 11177 1416 11867 3501744275 20282 ...  "
      ]
     },
     "execution_count": 192,
     "metadata": {},
     "output_type": "execute_result"
    }
   ],
   "source": [
    "data.head()"
   ]
  },
  {
   "cell_type": "code",
   "execution_count": 216,
   "id": "3d62a994-15b4-4098-93a8-4d7f2728961f",
   "metadata": {},
   "outputs": [
    {
     "data": {
      "text/plain": [
       "0.9548326261197548"
      ]
     },
     "execution_count": 216,
     "metadata": {},
     "output_type": "execute_result"
    }
   ],
   "source": [
    "clean_data_train[\"modified_features\"] = clean_data_train[\"rubrics_id\"] + \" q \" + clean_data_train[\"features_id\"]\n",
    "\n",
    "clean_data_test[\"modified_features\"] = clean_data_test[\"rubrics_id\"] + \" q \" + clean_data_test[\"features_id\"]\n",
    "\n",
    "clean_data_test.loc[~clean_data_test[\"modified_features\"].isin(clean_data_train[\"modified_features\"]), \"modified_features\"] = \"other\"\n",
    "\n",
    "len(clean_data_test[clean_data_test[\"modified_features\"] == \"other\"]) / clean_data_test.shape[0]"
   ]
  },
  {
   "cell_type": "code",
   "execution_count": null,
   "id": "22356489-4936-4433-ac45-aa6d9ec9c87c",
   "metadata": {},
   "outputs": [],
   "source": []
  }
 ],
 "metadata": {
  "kernelspec": {
   "display_name": "Python 3 (ipykernel)",
   "language": "python",
   "name": "python3"
  },
  "language_info": {
   "codemirror_mode": {
    "name": "ipython",
    "version": 3
   },
   "file_extension": ".py",
   "mimetype": "text/x-python",
   "name": "python",
   "nbconvert_exporter": "python",
   "pygments_lexer": "ipython3",
   "version": "3.8.5"
  }
 },
 "nbformat": 4,
 "nbformat_minor": 5
}
